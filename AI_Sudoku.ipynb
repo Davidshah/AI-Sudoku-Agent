{
 "cells": [
  {
   "cell_type": "markdown",
   "metadata": {},
   "source": [
    "# AI Sudoku Solving Agent\n",
    "\n",
    "This project is taken from the [Udacity Artifical Intelligence Nanodegree](https://www.udacity.com/ai). It is based on the [blog post](http://norvig.com/sudoku.html) by Peter Norvig. The goal is to build an intelligent agent that will solve every sudoku puzzle.\n",
    "\n",
    "What is [Sudoku](https://en.wikipedia.org/wiki/Sudoku)? It consists of a 9x9 grid, and the objective is to fill the grid with digits in such a way that each row, each column, and each of the 9 principal 3x3 subsquares contains all of the digits from 1 to 9. The detailed rules can be found [here](http://www.conceptispuzzles.com/?uri=puzzle/sudoku/rules). For example:\n",
    "\n",
    "<img src=\"https://d17h27t6h515a5.cloudfront.net/topher/2017/January/586851cd_sudoku-easy/sudoku-easy.png\" alt=\"Drawing\" style=\"width: 500px;\"/>"
   ]
  },
  {
   "cell_type": "markdown",
   "metadata": {},
   "source": [
    "## Getting started\n",
    "\n",
    "Before we do anything else, we will need to set some naming conventions and encode the board for the game. Let's start with the rows and columns.\n",
    "\n",
    "* The rows will be labelled by the letters A, B, C, D, E, F, G, H, I.\n",
    "* The columns will be labelled by the numbers 1, 2, 3, 4, 5, 6, 7, 8, 9.\n",
    "* For example, B1 in the above picture contains the value 9.\n",
    "\n",
    "We will also need some names for the elements created by these rows and columns.\n",
    "\n",
    "* The individual squares at the intersection of rows and columns will be called `boxes`. These boxes will have labels 'A1', 'A2', ..., 'I9'.\n",
    "* The complete rows, columns, and 3x3 squares, will be called `units`. Thus, each unit is a set of 9 boxes, and there are 27 units in total. If we are playing diagonal Sudoku, there are 29 units.\n",
    "* For a particular box (such as 'A1'), its `peers` will be all other boxes that belong to a common unit (namely, those that belong to the same row, column, or 3x3 square).\n",
    "\n",
    "\n"
   ]
  },
  {
   "cell_type": "markdown",
   "metadata": {},
   "source": [
    "## Encoding the board\n",
    "\n",
    "We have some options when it comes to encoding the board, but for our purposes we will record puzzles as a string and as a dictionary. For example, we can store the above pictured puzzle as a string by reading from top to bottem and left to right and using a \".\" as a placeholder for an empty box.\n",
    "\n",
    "```\n",
    "..3.2.6..9..3.5..1..18.64....81.29..7.......8..67.82....26.95..8..2.3..9..5.1.3..\n",
    "```\n",
    "\n",
    "For the dictionary, the keys will be strings corresponding to the boxes and the values will either be the digit or the \".\" placeholder. For example:\n",
    "\n",
    "```\n",
    "{'A1': '.'\n",
    " 'A2': '.',\n",
    " 'A3': '3',\n",
    " 'A4': '.',\n",
    " 'A5': '2',\n",
    " ...\n",
    " 'I9': '.'}\n",
    "```\n",
    "\n",
    "Let's code up what we have so far."
   ]
  },
  {
   "cell_type": "code",
   "execution_count": 20,
   "metadata": {
    "collapsed": false
   },
   "outputs": [
    {
     "name": "stdout",
     "output_type": "stream",
     "text": [
      "All tests pass.\n"
     ]
    }
   ],
   "source": [
    "# Rows and column labels\n",
    "rows = 'ABCDEFGHI'\n",
    "cols = '123456789'\n",
    "\n",
    "# Box labels (A1, A2 ...)\n",
    "def cross(a, b):\n",
    "    \"\"\" (str, str) -> list\n",
    "    \n",
    "    Helper function to combine rows and columns.\n",
    "    Cross product of elements in A and elements in B.\n",
    "    \n",
    "    >>> cross('ab', '12')\n",
    "    [a1, a2, b1, b2]\n",
    "    \"\"\"\n",
    "    return [s+t for s in a for t in b]\n",
    "\n",
    "boxes = cross(rows, cols)\n",
    "\n",
    "# All row units\n",
    "row_units = [cross(r, cols) for r in rows]\n",
    "\n",
    "# All column units\n",
    "column_units = [cross(rows, c) for c in cols]\n",
    "\n",
    "# All 3x3 square units\n",
    "square_units = [cross(rs, cs) for rs in ('ABC','DEF','GHI') for cs in ('123','456','789')]\n",
    "\n",
    "# Create unitlist and convert to dictionary\n",
    "unitlist = row_units + column_units + square_units\n",
    "units = dict((s, [u for u in unitlist if s in u]) for s in boxes)\n",
    "\n",
    "# Create peers dictionary\n",
    "peers = dict((s, set(sum(units[s],[]))-set([s])) for s in boxes)\n",
    "\n",
    "# Test our labels\n",
    "def test():\n",
    "    \"\"\"\n",
    "    A set of unit tests.\n",
    "    \"\"\"\n",
    "    assert len(boxes) == 81\n",
    "    assert len(unitlist) == 27\n",
    "    assert all(len(units[s]) == 3 for s in boxes)\n",
    "    assert all(len(peers[s]) == 20 for s in boxes)\n",
    "    assert units['C2'] == [['C1', 'C2', 'C3', 'C4', 'C5', 'C6', 'C7', 'C8', 'C9'],\n",
    "                           ['A2', 'B2', 'C2', 'D2', 'E2', 'F2', 'G2', 'H2', 'I2'],\n",
    "                           ['A1', 'A2', 'A3', 'B1', 'B2', 'B3', 'C1', 'C2', 'C3']]\n",
    "    assert peers['C2'] == set(['A2', 'B2', 'D2', 'E2', 'F2', 'G2', 'H2', 'I2',\n",
    "                               'C1', 'C3', 'C4', 'C5', 'C6', 'C7', 'C8', 'C9',\n",
    "                               'A1', 'A3', 'B1', 'B3'])\n",
    "    print('All tests pass.')\n",
    "\n",
    "test()"
   ]
  },
  {
   "cell_type": "markdown",
   "metadata": {},
   "source": [
    "Now for every box, we have a dictionary that stores the units and peers that belong to it. This will help when trying to solve the puzzle. Let's program the actual board state now for the example we have been using:\n",
    "\n",
    "```\n",
    "'..3.2.6..9..3.5..1..18.64....81.29..7.......8..67.82....26.95..8..2.3..9..5.1.3..'\n",
    "```"
   ]
  },
  {
   "cell_type": "code",
   "execution_count": 21,
   "metadata": {
    "collapsed": false
   },
   "outputs": [
    {
     "name": "stdout",
     "output_type": "stream",
     "text": [
      ". . 3 |. 2 . |6 . . \n",
      "9 . . |3 . 5 |. . 1 \n",
      ". . 1 |8 . 6 |4 . . \n",
      "------+------+------\n",
      ". . 8 |1 . 2 |9 . . \n",
      "7 . . |. . . |. . 8 \n",
      ". . 6 |7 . 8 |2 . . \n",
      "------+------+------\n",
      ". . 2 |6 . 9 |5 . . \n",
      "8 . . |2 . 3 |. . 9 \n",
      ". . 5 |. 1 . |3 . . \n"
     ]
    }
   ],
   "source": [
    "def display(values):\n",
    "    \"\"\" (dict) -> None\n",
    "    \n",
    "    Display the sudoku in dictionary form as a 2-D grid.\n",
    "    \"\"\"\n",
    "    width = 1 + max(len(values[s]) for s in boxes)\n",
    "    line = '+'.join(['-'*(width*3)]*3)\n",
    "    for r in rows:\n",
    "        print(''.join(values[r+c].center(width)+('|' if c in '36' else '')\n",
    "                      for c in cols))\n",
    "        if r in 'CF': print(line)\n",
    "            \n",
    "    return\n",
    "\n",
    "def grid_values(grid):\n",
    "    \"\"\" (str) -> dict\n",
    "    \n",
    "    Convert grid string into {<box>: <value>} dict with '.' value for empties.\n",
    "        - keys: Box labels, e.g. 'A1'\n",
    "        - values: Value in corresponding box, e.g. '8', or '.' if it is empty.\n",
    "    \"\"\"\n",
    "    assert len(grid) == 81, \"Input grid must be a string of length 81 (9x9)\"\n",
    "    return dict(zip(boxes, grid))\n",
    "\n",
    "grid = grid_values('..3.2.6..9..3.5..1..18.64....81.29..7.......8..67.82....26.95..8..2.3..9..5.1.3..')\n",
    "display(grid)"
   ]
  },
  {
   "cell_type": "markdown",
   "metadata": {},
   "source": [
    "Now with our board fully encoded, we can begin to solve the puzzle."
   ]
  },
  {
   "cell_type": "markdown",
   "metadata": {},
   "source": [
    "## Strategy 1: Elimination\n",
    "\n",
    "The first insight we will naturally come upon is that we can eliminate possible values for a box by looking at its peers. If a box has a value assigned to it, then none of the peers of that box can have this value. Let's code the board with this insight, instead of having a \".\" on the board as a placeholder we will have a string with all the possible values the box can take excluding the values of its peers.\n",
    "\n",
    "This will require two steps:\n",
    "1. update grid_values() to return '123456789' instead of '.'\n",
    "2. create elimintate() function that iterates over all the boxes in the puzzle that only ahve one value, and removes that value from every one of its peers."
   ]
  },
  {
   "cell_type": "code",
   "execution_count": 23,
   "metadata": {
    "collapsed": false
   },
   "outputs": [
    {
     "name": "stdout",
     "output_type": "stream",
     "text": [
      "   45    4578    3   |   49     2     147  |   6     5789    57  \n",
      "   9    24678    47  |   3      47     5   |   78    278     1   \n",
      "   25    257     1   |   8      79     6   |   4    23579   2357 \n",
      "---------------------+---------------------+---------------------\n",
      "  345    345     8   |   1     3456    2   |   9    34567  34567 \n",
      "   7    123459   49  |  459   34569    4   |   1    13456    8   \n",
      "  1345  13459    6   |   7     3459    8   |   2     1345   345  \n",
      "---------------------+---------------------+---------------------\n",
      "  134    1347    2   |   6     478     9   |   5     1478    47  \n",
      "   8     1467    47  |   2     457     3   |   17    1467    9   \n",
      "   46    4679    5   |   4      1      47  |   3    24678   2467 \n"
     ]
    }
   ],
   "source": [
    "def grid_values(grid):\n",
    "    \"\"\" (str) -> dict\n",
    "    \n",
    "    Convert grid string into {<box>: <value>} dict with '123456789' value for empties.\n",
    "        - keys: Box labels, e.g. 'A1'\n",
    "        - values: Value in corresponding box, e.g. '8', or '123456789' if it is empty.\n",
    "    \"\"\"\n",
    "    values = []\n",
    "    all_digits = '123456789'\n",
    "    \n",
    "    # Iterate through characters in our grid string\n",
    "    for c in grid:\n",
    "        # Add '123456789' where placeholders are\n",
    "        if c == '.':\n",
    "            values.append(all_digits)\n",
    "        # Add value if value present\n",
    "        elif c in all_digits:\n",
    "            values.append(c)\n",
    "    \n",
    "    # Check length and create dictionary\n",
    "    assert len(values) == 81\n",
    "    return dict(zip(boxes, values))\n",
    "\n",
    "def eliminate(values):\n",
    "    \"\"\" (dict) -> dict\n",
    "    \n",
    "    Eliminate values from peers of each box with a single value.\n",
    "\n",
    "    Go through all the boxes, and whenever there is a box with a single value,\n",
    "    eliminate this value from the set of values of all its peers.\n",
    "    \"\"\"\n",
    "    # Find values that are already given\n",
    "    solved_values = [box for box in values.keys() if len(values[box]) == 1]\n",
    "    \n",
    "    # Interate through boxes with solutions\n",
    "    for box in solved_values:\n",
    "        digit = values[box]\n",
    "        # Remove value from peers\n",
    "        for peer in peers[box]:\n",
    "            values[peer] = values[peer].replace(digit,'')\n",
    "            \n",
    "    return values\n",
    "\n",
    "grid = grid_values('..3.2.6..9..3.5..1..18.64....81.29..7.......8..67.82....26.95..8..2.3..9..5.1.3..')\n",
    "grid = eliminate(grid)\n",
    "display(grid)"
   ]
  },
  {
   "cell_type": "markdown",
   "metadata": {},
   "source": [
    "## Strategy 2: Only Choice\n",
    "\n",
    "Our next insight will probably be that every unit must contain exactly one occurrence of every number. Recall a unit is just a column, or row, or 3x3 box. For example, looking at the top row in our example after elimination, we see that there is only one possible location where a 1 can fit (A6).\n",
    "\n",
    "In other words, if there is only one box in a unit which would allow a certain digit, then that box must be assigned that digit. To code this up we will take the puzzle as a dictionary and go through all the units, and if there is a unit with a digit that only fits in one possible box, assign that digit to that box."
   ]
  },
  {
   "cell_type": "code",
   "execution_count": 24,
   "metadata": {
    "collapsed": false
   },
   "outputs": [
    {
     "name": "stdout",
     "output_type": "stream",
     "text": [
      "  45    8     3   |  9     2     1   |  6    5789   57  \n",
      "  9     6     47  |  3     4     5   |  8    278    1   \n",
      "  2    257    1   |  8     7     6   |  4   23579  2357 \n",
      "------------------+------------------+------------------\n",
      " 345   345    8   |  1    3456   2   |  9   34567 34567 \n",
      "  7     2     9   |  5   34569   4   |  1   13456   8   \n",
      " 1345 13459   6   |  7    3459   8   |  2    1345  345  \n",
      "------------------+------------------+------------------\n",
      " 134   1347   2   |  6     8     9   |  5    1478   47  \n",
      "  8    1467   47  |  2     5     3   |  17    6     9   \n",
      "  6     9     5   |  4     1     7   |  3     8     2   \n"
     ]
    }
   ],
   "source": [
    "def only_choice(values):\n",
    "    \"\"\" (dict) -> dict\n",
    "    \n",
    "    Finalize all values that are the only choice for a unit.\n",
    "\n",
    "    Go through all the units, and whenever there is a unit with a value\n",
    "    that only fits in one box, assign the value to this box.\n",
    "    \"\"\"\n",
    "    # Interate through units\n",
    "    for unit in unitlist:\n",
    "        for digit in '123456789':\n",
    "            # Create a list of boxes where a digit appears\n",
    "            dplaces = [box for box in unit if digit in values[box]]\n",
    "            # If digit only appears in one box, replace value with digit\n",
    "            if len(dplaces) == 1:\n",
    "                values[dplaces[0]] = digit\n",
    "                \n",
    "    return values\n",
    "\n",
    "grid = grid_values('..3.2.6..9..3.5..1..18.64....81.29..7.......8..67.82....26.95..8..2.3..9..5.1.3..')\n",
    "grid = eliminate(grid)\n",
    "grid = only_choice(grid)\n",
    "display(grid)"
   ]
  },
  {
   "cell_type": "markdown",
   "metadata": {},
   "source": [
    "## Constraint Propagation\n",
    "\n",
    "So far we have just been eliminating possibilites based on the rules of Sudoku. There is a term for this - Constraint Propagation. Constraint Propagation is all about using local constraints in a space (in the case of Sudoku, the constraints of each square) to dramatically reduce the search space. As we enforce each constraint, we see how it introduces new constraints for other parts of the board that can help us further reduce the number of possibilities.\n",
    "\n",
    "Now that we reduced our search space by using elimination() and only_choice(), we can use both functions again on our results in order to find new things to eliminate and new solutions. Let's code this up in a function called reduce_puzzle(). We will need to make sure the fuction stops when the puzzle is solved and also stops when the strategies fail to make any progress."
   ]
  },
  {
   "cell_type": "code",
   "execution_count": 51,
   "metadata": {
    "collapsed": false
   },
   "outputs": [
    {
     "name": "stdout",
     "output_type": "stream",
     "text": [
      "4 8 3 |9 2 1 |6 5 7 \n",
      "9 6 7 |3 4 5 |8 2 1 \n",
      "2 5 1 |8 7 6 |4 9 3 \n",
      "------+------+------\n",
      "5 4 8 |1 3 2 |9 7 6 \n",
      "7 2 9 |5 6 4 |1 3 8 \n",
      "1 3 6 |7 9 8 |2 4 5 \n",
      "------+------+------\n",
      "3 7 2 |6 8 9 |5 1 4 \n",
      "8 1 4 |2 5 3 |7 6 9 \n",
      "6 9 5 |4 1 7 |3 8 2 \n"
     ]
    }
   ],
   "source": [
    "def reduce_puzzle(values):\n",
    "    \"\"\" (dict) -> dict\n",
    "    \n",
    "    Iterate eliminate() and only_choice(). If at some point, there is a box with no available values, return False.\n",
    "    If the sudoku is solved, return the sudoku.\n",
    "    If after an iteration of both functions, the sudoku remains the same, return the sudoku.\n",
    "    \"\"\"\n",
    "    # Initialize stalled\n",
    "    stalled = False\n",
    "    \n",
    "    # Check if stalled, if not proceed\n",
    "    while not stalled:\n",
    "        # Check how many boxes have a determined value\n",
    "        solved_values_before = len([box for box in values.keys() if len(values[box]) == 1])\n",
    "        # Use the Eliminate Strategy\n",
    "        values = eliminate(values)\n",
    "        # Use the Only Choice Strategy\n",
    "        values = only_choice(values)\n",
    "        # Check how many boxes have a determined value, to compare\n",
    "        solved_values_after = len([box for box in values.keys() if len(values[box]) == 1])\n",
    "        # If no new values were added, stop the loop.\n",
    "        stalled = solved_values_before == solved_values_after\n",
    "        # Sanity check, return False if there is a box with zero available values:\n",
    "        if len([box for box in values.keys() if len(values[box]) == 0]):\n",
    "            return False\n",
    "        \n",
    "    return values\n",
    "\n",
    "grid = grid_values('..3.2.6..9..3.5..1..18.64....81.29..7.......8..67.82....26.95..8..2.3..9..5.1.3..')\n",
    "grid = reduce_puzzle(grid)\n",
    "display(grid)"
   ]
  },
  {
   "cell_type": "markdown",
   "metadata": {},
   "source": [
    "We solved the problem! But what would have happened if the our two strategies failed to solve it? Consider the harder problem of:\n",
    "\n",
    "```\n",
    "'4.....8.5.3..........7......2.....6.....8.4......1.......6.3.7.5..2.....1.4......'\n",
    "```\n",
    "Running reduce_puzzle() on this grid would not reach a solution. We will need a new strategy."
   ]
  },
  {
   "cell_type": "markdown",
   "metadata": {},
   "source": [
    "## Strategy 3: Search\n",
    "\n",
    "Along with Constratin propegations, another fundemental AI technique is simple search. If we don't know the answer, try searching through all possible answers till one works. However, this can be costly if not implemented with some tricks.\n",
    "\n",
    "Here we'll apply it by starting with the box that has the fewest values. For example if there is a box with with only two possible values, say 1 and 6, we will just fill the box in with 1 and try to solve the puzzle from their, if we can't then we will try with the 6 instead.\n",
    "\n",
    "We can create a search() function that starts with the box with the fewest possiblities and works through them recursively."
   ]
  },
  {
   "cell_type": "code",
   "execution_count": 53,
   "metadata": {
    "collapsed": false
   },
   "outputs": [
    {
     "name": "stdout",
     "output_type": "stream",
     "text": [
      "10 loops, best of 3: 65 ms per loop\n",
      "4 1 7 |3 6 9 |8 2 5 \n",
      "6 3 2 |1 5 8 |9 4 7 \n",
      "9 5 8 |7 2 4 |3 1 6 \n",
      "------+------+------\n",
      "8 2 5 |4 3 7 |1 6 9 \n",
      "7 9 1 |5 8 6 |4 3 2 \n",
      "3 4 6 |9 1 2 |7 5 8 \n",
      "------+------+------\n",
      "2 8 9 |6 4 3 |5 7 1 \n",
      "5 7 3 |2 9 1 |6 8 4 \n",
      "1 6 4 |8 7 5 |2 9 3 \n"
     ]
    }
   ],
   "source": [
    "def search(values):\n",
    "    \"\"\" (dict) -> dict\n",
    "    \n",
    "    Using depth-first search and propagation, try all possible values.\n",
    "    \"\"\"\n",
    "    # First, reduce the puzzle using the previous function\n",
    "    values = reduce_puzzle(values)\n",
    "    \n",
    "    # Check if failed\n",
    "    if values is False:\n",
    "        return False ## Failed earlier\n",
    "    \n",
    "    # Check if solved\n",
    "    if all(len(values[s]) == 1 for s in boxes): \n",
    "        return values ## Solved!\n",
    "    \n",
    "    # Choose one of the unfilled squares with the fewest possibilities\n",
    "    n,s = min((len(values[s]), s) for s in boxes if len(values[s]) > 1)\n",
    "    \n",
    "    # Now use recurrence to solve each one of the resulting sudokus\n",
    "    for value in values[s]:\n",
    "        new_sudoku = values.copy()\n",
    "        new_sudoku[s] = value\n",
    "        attempt = search(new_sudoku)\n",
    "        if attempt:\n",
    "            return attempt\n",
    "        \n",
    "grid2 = '4.....8.5.3..........7......2.....6.....8.4......1.......6.3.7.5..2.....1.4......'\n",
    "grid2 = grid_values(grid2)\n",
    "%timeit search(grid2)\n",
    "grid2 = search(grid2)\n",
    "display(grid2)"
   ]
  },
  {
   "cell_type": "markdown",
   "metadata": {},
   "source": [
    "We now have an AI agent that can solve every Sudoku puzzle, but can we do better? Well, we can add more rules to our constrain propegation before we get to the searching step. Searching is the most costly part of this solution, so the more we can reduce until we get there, the better."
   ]
  },
  {
   "cell_type": "markdown",
   "metadata": {},
   "source": [
    "## Strategy 4: Naked twins\n",
    "\n",
    "The naked twins strategy is one such constraint in Sudoku. If we identify a pair of boxes belonging to the same set of peers that have the same 2 numbers as possibilities, we can eliminate those two numbers from all the boxes that have these two boxes as peers because:\n",
    "* No other digit can appear in those 2 boxes.\n",
    "* The 2 digits cannot appear in the other boxes of the unit.\n",
    "\n",
    "For an example, look [here](http://www.sudokudragon.com/tutorialnakedtwins.htm). Coding this up:"
   ]
  },
  {
   "cell_type": "code",
   "execution_count": 54,
   "metadata": {
    "collapsed": true
   },
   "outputs": [],
   "source": [
    "assignments = []\n",
    "\n",
    "def assign_value(values, box, value):\n",
    "    \"\"\" (dict, str, int) -> dict\n",
    "    \n",
    "    Helper function. Assigns a value to a given box. If it updates the board record it.\n",
    "    \"\"\"\n",
    "    # Don't waste memory appending actions that don't actually change any values\n",
    "    if values[box] == value:\n",
    "        return values\n",
    "\n",
    "    values[box] = value\n",
    "    if len(value) == 1:\n",
    "        assignments.append(values.copy())\n",
    "    return values\n",
    "\n",
    "def naked_twins(values):\n",
    "    \"\"\" (dict) -> dict\n",
    "    \n",
    "    Eliminate values using the naked twins strategy.\n",
    "    \"\"\"\n",
    "    for u in unitlist:\n",
    "        # Create lookup table for values in unit\n",
    "        l_val = [values[s] for s in u]\n",
    "        # Track the counts of duplicate values\n",
    "        l_val_c = [l_val.count(s) for s in l_val]\n",
    "        # Find the naked twins\n",
    "        naked_twins = [u[i] for i in range(9) if l_val_c[i] == 2 and len(l_val[i]) == 2]\n",
    "        # Find the non twins\n",
    "        non_twins = set(u) - set(naked_twins)\n",
    "        # Eliminate the naked twins as possibilities for their peers\n",
    "        for box in naked_twins:\n",
    "            for digit in values[box]:\n",
    "                for n in non_twins:\n",
    "                    if len(values[n]) > 1:\n",
    "                        assign_value(values, n, values[n].replace(digit,''))\n",
    "\n",
    "    return values"
   ]
  },
  {
   "cell_type": "markdown",
   "metadata": {},
   "source": [
    "Then adding this to our reduce_puzzle() function:"
   ]
  },
  {
   "cell_type": "code",
   "execution_count": 55,
   "metadata": {
    "collapsed": true
   },
   "outputs": [],
   "source": [
    "def reduce_puzzle(values):\n",
    "    \"\"\" (dict) -> dict\n",
    "    \n",
    "    Iterate eliminate() and only_choice(). If at some point, there is a box with no available values, return False.\n",
    "    If the sudoku is solved, return the sudoku.\n",
    "    If after an iteration of both functions, the sudoku remains the same, return the sudoku.\n",
    "    \"\"\"\n",
    "    # Initialize stalled\n",
    "    stalled = False\n",
    "    \n",
    "    # Check if stalled, if not proceed\n",
    "    while not stalled:\n",
    "        # Check how many boxes have a determined value\n",
    "        solved_values_before = len([box for box in values.keys() if len(values[box]) == 1])\n",
    "        # Use the Eliminate Strategy\n",
    "        values = eliminate(values)\n",
    "        # Use the Only Choice Strategy\n",
    "        values = only_choice(values)\n",
    "        # Use the Naked Twins Strategy\n",
    "        values = naked_twins(values)\n",
    "        # Check how many boxes have a determined value, to compare\n",
    "        solved_values_after = len([box for box in values.keys() if len(values[box]) == 1])\n",
    "        # If no new values were added, stop the loop.\n",
    "        stalled = solved_values_before == solved_values_after\n",
    "        # Sanity check, return False if there is a box with zero available values:\n",
    "        if len([box for box in values.keys() if len(values[box]) == 0]):\n",
    "            return False\n",
    "        \n",
    "    return values"
   ]
  },
  {
   "cell_type": "markdown",
   "metadata": {},
   "source": [
    "Finally let's create a one stop solve() function to take in a string and solve using everything we have done so far."
   ]
  },
  {
   "cell_type": "code",
   "execution_count": 56,
   "metadata": {
    "collapsed": true
   },
   "outputs": [],
   "source": [
    "def solve(grid):\n",
    "    \"\"\" (str) -> None\n",
    "    \n",
    "    Find the solution to a Sudoku grid.\n",
    "    \"\"\"\n",
    "    values = grid_values(grid)\n",
    "    values = search(values)\n",
    "    #display(values)\n",
    "\n",
    "    return"
   ]
  },
  {
   "cell_type": "code",
   "execution_count": 57,
   "metadata": {
    "collapsed": false
   },
   "outputs": [
    {
     "name": "stdout",
     "output_type": "stream",
     "text": [
      "10 loops, best of 3: 25.3 ms per loop\n"
     ]
    }
   ],
   "source": [
    "grid = '4.....8.5.3..........7......2.....6.....8.4......1.........3.7....2.....1.4......'\n",
    "%timeit solve(grid)"
   ]
  },
  {
   "cell_type": "markdown",
   "metadata": {},
   "source": [
    "We cut our search time in half! 65 ms per loop to 25.3 ms per loop."
   ]
  }
 ],
 "metadata": {
  "kernelspec": {
   "display_name": "Python 3",
   "language": "python",
   "name": "python3"
  },
  "language_info": {
   "codemirror_mode": {
    "name": "ipython",
    "version": 3
   },
   "file_extension": ".py",
   "mimetype": "text/x-python",
   "name": "python",
   "nbconvert_exporter": "python",
   "pygments_lexer": "ipython3",
   "version": "3.6.0"
  }
 },
 "nbformat": 4,
 "nbformat_minor": 2
}
